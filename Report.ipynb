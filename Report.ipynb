{
 "cells": [
  {
   "cell_type": "markdown",
   "metadata": {},
   "source": [
    "# Advanced Image Classification"
   ]
  },
  {
   "cell_type": "markdown",
   "metadata": {},
   "source": [
    "**Name:** Aman Chopra  \n",
    "**Purdue Email:** chopra21@purdue.edu  \n",
    "**[Github Repo](https://github.com/amanichopra/CNN-Classification)**"
   ]
  },
  {
   "cell_type": "markdown",
   "metadata": {},
   "source": [
    "## Resources Used\n",
    "- https://zhenye-na.github.io/2018/09/28/pytorch-cnn-cifar10.html\n",
    "- https://www.tensorflow.org/tutorials/keras/save_and_load"
   ]
  },
  {
   "cell_type": "markdown",
   "metadata": {},
   "source": [
    "## Features\n",
    "\n",
    "- Constructed CNN with Keras for MNIST digits (99% accuracy), MNIST fashion (92% accuracy), CIFAR-10 (73% accuracy), CIFAR-100 fine (43% accuracy), and CIFAR-100 coarse (56% accuracy) datasets.\n",
    "- Implemented support for saving and loading models to avoid retraining.\n",
    "- Incorporated functionality for augmentation and random cropping of input data."
   ]
  },
  {
   "cell_type": "markdown",
   "metadata": {},
   "source": [
    "## Questions"
   ]
  },
  {
   "cell_type": "markdown",
   "metadata": {},
   "source": [
    "**1) How is a CNN superior to standard ANNs for image processing?**\n",
    "\n",
    "The main advantage of CNNs over standard ANNs for image processing is that they preserve the spatial interactions in images. They are also effective in capturing the relevant features of images, similar to process of human vision processing. Just like humans, CNNs begin with simple cells capturing high-level attributes and end with more complex cells capturing low-level attributes."
   ]
  },
  {
   "cell_type": "markdown",
   "metadata": {},
   "source": [
    "**2) Why do we sometimes use pooling in CNNs?**\n",
    "\n",
    "Pooling is useful to help reduce the space complexity of the network and compute fewer parameters. It significantly reduces overhead during training, while still retaining the important features of the image. "
   ]
  },
  {
   "cell_type": "markdown",
   "metadata": {},
   "source": [
    "**3) Why do you think the cifar datasets are harder than mnist?**\n",
    "\n",
    "The CIFAR datasets are harder to classify that MNIST probably due to the following reasons:\n",
    "- CIFAR images are RGB unlike the black & white MNIST images, which adds more complexity.\n",
    "- CIFAR images have varied backgrounds and orientations for the same objects. For example, airplanes in the dataset are in different settings and are pictured in different angles. \n",
    "- MNIST has much fewer class labels."
   ]
  },
  {
   "cell_type": "markdown",
   "metadata": {},
   "source": [
    "## Evaluation and Hyperparameter Tuning"
   ]
  },
  {
   "cell_type": "markdown",
   "metadata": {},
   "source": [
    "Let's summarize the results on each dataset."
   ]
  },
  {
   "cell_type": "code",
   "execution_count": 1,
   "metadata": {},
   "outputs": [],
   "source": [
    "from CNN_tuning import getRawData, preprocessData, trainModel, runModel, evalResults"
   ]
  },
  {
   "cell_type": "code",
   "execution_count": 2,
   "metadata": {},
   "outputs": [
    {
     "name": "stdout",
     "output_type": "stream",
     "text": [
      "Dataset: mnist_d\n",
      "Shape of xTrain dataset: (60000, 28, 28).\n",
      "Shape of yTrain dataset: (60000,).\n",
      "Shape of xTest dataset: (10000, 28, 28).\n",
      "Shape of yTest dataset: (10000,).\n",
      "New shape of xTrain dataset: (60000, 28, 28, 1).\n",
      "New shape of xTest dataset: (10000, 28, 28, 1).\n",
      "New shape of yTrain dataset: (60000, 10).\n",
      "New shape of yTest dataset: (10000, 10).\n",
      "Building and training TF_CNN.\n",
      "Testing TF_CNN.\n",
      "Classifier algorithm: tf_conv\n",
      "Classifier accuracy: 99.080000%\n",
      "\n",
      "Dataset: mnist_f\n",
      "Shape of xTrain dataset: (60000, 28, 28).\n",
      "Shape of yTrain dataset: (60000,).\n",
      "Shape of xTest dataset: (10000, 28, 28).\n",
      "Shape of yTest dataset: (10000,).\n",
      "New shape of xTrain dataset: (60000, 28, 28, 1).\n",
      "New shape of xTest dataset: (10000, 28, 28, 1).\n",
      "New shape of yTrain dataset: (60000, 10).\n",
      "New shape of yTest dataset: (10000, 10).\n",
      "Building and training TF_CNN.\n",
      "Testing TF_CNN.\n",
      "Classifier algorithm: tf_conv\n",
      "Classifier accuracy: 92.920000%\n",
      "\n",
      "Dataset: cifar_10\n",
      "Shape of xTrain dataset: (50000, 32, 32, 3).\n",
      "Shape of yTrain dataset: (50000, 1).\n",
      "Shape of xTest dataset: (10000, 32, 32, 3).\n",
      "Shape of yTest dataset: (10000, 1).\n",
      "New shape of xTrain dataset: (50000, 32, 32, 3).\n",
      "New shape of xTest dataset: (10000, 32, 32, 3).\n",
      "New shape of yTrain dataset: (50000, 10).\n",
      "New shape of yTest dataset: (10000, 10).\n",
      "Building and training TF_CNN.\n",
      "Testing TF_CNN.\n",
      "Classifier algorithm: tf_conv\n",
      "Classifier accuracy: 73.880000%\n",
      "\n",
      "Dataset: cifar_100_c\n",
      "Shape of xTrain dataset: (50000, 32, 32, 3).\n",
      "Shape of yTrain dataset: (50000, 1).\n",
      "Shape of xTest dataset: (10000, 32, 32, 3).\n",
      "Shape of yTest dataset: (10000, 1).\n",
      "New shape of xTrain dataset: (50000, 32, 32, 3).\n",
      "New shape of xTest dataset: (10000, 32, 32, 3).\n",
      "New shape of yTrain dataset: (50000, 20).\n",
      "New shape of yTest dataset: (10000, 20).\n",
      "Building and training TF_CNN.\n",
      "Testing TF_CNN.\n",
      "Classifier algorithm: tf_conv\n",
      "Classifier accuracy: 56.560000%\n",
      "\n",
      "Dataset: cifar_100_f\n",
      "Shape of xTrain dataset: (50000, 32, 32, 3).\n",
      "Shape of yTrain dataset: (50000, 1).\n",
      "Shape of xTest dataset: (10000, 32, 32, 3).\n",
      "Shape of yTest dataset: (10000, 1).\n",
      "New shape of xTrain dataset: (50000, 32, 32, 3).\n",
      "New shape of xTest dataset: (10000, 32, 32, 3).\n",
      "New shape of yTrain dataset: (50000, 100).\n",
      "New shape of yTest dataset: (10000, 100).\n",
      "Building and training TF_CNN.\n",
      "Testing TF_CNN.\n",
      "Classifier algorithm: tf_conv\n",
      "Classifier accuracy: 43.940000%\n",
      "\n"
     ]
    }
   ],
   "source": [
    "mods = {'mnist_d':None, 'mnist_f':None, 'cifar_10':None, 'cifar_100_c':None, 'cifar_100_f':None}\n",
    "acc = {dataset: None for dataset in mods}\n",
    "for dataset in mods:\n",
    "    raw = getRawData(dataset)\n",
    "    data = preprocessData(raw, dataset, 'tf_conv')\n",
    "    model = trainModel(data[0], 'tf_conv', dataset, load=True)\n",
    "    mods[dataset] = model\n",
    "    preds = runModel(data[1], model, ALGORITHM='tf_conv')\n",
    "    acc[dataset] = evalResults(data[1], preds, ALGORITHM='tf_conv')"
   ]
  },
  {
   "cell_type": "markdown",
   "metadata": {},
   "source": [
    "Increasing the accuracy of the CNN was a tedious but rewarding task. At first, the CNN architecture for each dataset only had one convolution layer, followed by a dropout layer. This resulted in decent accuracy (95% for MINST datasets and 35%-50% for CIFAR datasets). To increase the accuracy further, I added more convolutional layers with increasing numbers of filters for each subsequent layer. Additionally, I added BatchNormalization layers to help with regularization and accelarating the training process. Lastly, despite the time complexity, I trained the CNNs for many epochs ~35. "
   ]
  },
  {
   "cell_type": "markdown",
   "metadata": {},
   "source": [
    "## CNN Architecture and Hyperparameters"
   ]
  },
  {
   "cell_type": "markdown",
   "metadata": {},
   "source": [
    "**MNIST Digits**"
   ]
  },
  {
   "cell_type": "code",
   "execution_count": 3,
   "metadata": {},
   "outputs": [
    {
     "name": "stdout",
     "output_type": "stream",
     "text": [
      "Model: \"sequential_21\"\n",
      "_________________________________________________________________\n",
      "Layer (type)                 Output Shape              Param #   \n",
      "=================================================================\n",
      "conv2d_73 (Conv2D)           (None, 26, 26, 32)        320       \n",
      "_________________________________________________________________\n",
      "max_pooling2d_27 (MaxPooling (None, 13, 13, 32)        0         \n",
      "_________________________________________________________________\n",
      "dropout_75 (Dropout)         (None, 13, 13, 32)        0         \n",
      "_________________________________________________________________\n",
      "conv2d_74 (Conv2D)           (None, 11, 11, 64)        18496     \n",
      "_________________________________________________________________\n",
      "max_pooling2d_28 (MaxPooling (None, 5, 5, 64)          0         \n",
      "_________________________________________________________________\n",
      "dropout_76 (Dropout)         (None, 5, 5, 64)          0         \n",
      "_________________________________________________________________\n",
      "conv2d_75 (Conv2D)           (None, 3, 3, 128)         73856     \n",
      "_________________________________________________________________\n",
      "max_pooling2d_29 (MaxPooling (None, 1, 1, 128)         0         \n",
      "_________________________________________________________________\n",
      "dropout_77 (Dropout)         (None, 1, 1, 128)         0         \n",
      "_________________________________________________________________\n",
      "flatten_19 (Flatten)         (None, 128)               0         \n",
      "_________________________________________________________________\n",
      "dense_44 (Dense)             (None, 256)               33024     \n",
      "_________________________________________________________________\n",
      "dropout_78 (Dropout)         (None, 256)               0         \n",
      "_________________________________________________________________\n",
      "dense_45 (Dense)             (None, 10)                2570      \n",
      "=================================================================\n",
      "Total params: 128,266\n",
      "Trainable params: 128,266\n",
      "Non-trainable params: 0\n",
      "_________________________________________________________________\n"
     ]
    }
   ],
   "source": [
    "mods['mnist_d'].summary()"
   ]
  },
  {
   "cell_type": "markdown",
   "metadata": {},
   "source": [
    "conv_1_num_filters: 32     \n",
    "conv_2_num_filters: 64     \n",
    "conv_3_num_filters: 128     \n",
    "dropout: 0.2  \n",
    "num_hidden_layers = 1  \n",
    "neurons_per_hidden_layer = 256  \n",
    "pool_size = 2x2"
   ]
  },
  {
   "cell_type": "markdown",
   "metadata": {},
   "source": [
    "**MNIST Fashion**"
   ]
  },
  {
   "cell_type": "code",
   "execution_count": 4,
   "metadata": {},
   "outputs": [
    {
     "name": "stdout",
     "output_type": "stream",
     "text": [
      "Model: \"sequential_17\"\n",
      "_________________________________________________________________\n",
      "Layer (type)                 Output Shape              Param #   \n",
      "=================================================================\n",
      "conv2d_57 (Conv2D)           (None, 26, 26, 32)        320       \n",
      "_________________________________________________________________\n",
      "batch_normalization_43 (Batc (None, 26, 26, 32)        128       \n",
      "_________________________________________________________________\n",
      "conv2d_58 (Conv2D)           (None, 24, 24, 32)        9248      \n",
      "_________________________________________________________________\n",
      "batch_normalization_44 (Batc (None, 24, 24, 32)        128       \n",
      "_________________________________________________________________\n",
      "dropout_59 (Dropout)         (None, 24, 24, 32)        0         \n",
      "_________________________________________________________________\n",
      "conv2d_59 (Conv2D)           (None, 22, 22, 64)        18496     \n",
      "_________________________________________________________________\n",
      "max_pooling2d_23 (MaxPooling (None, 11, 11, 64)        0         \n",
      "_________________________________________________________________\n",
      "dropout_60 (Dropout)         (None, 11, 11, 64)        0         \n",
      "_________________________________________________________________\n",
      "conv2d_60 (Conv2D)           (None, 9, 9, 128)         73856     \n",
      "_________________________________________________________________\n",
      "batch_normalization_45 (Batc (None, 9, 9, 128)         512       \n",
      "_________________________________________________________________\n",
      "dropout_61 (Dropout)         (None, 9, 9, 128)         0         \n",
      "_________________________________________________________________\n",
      "flatten_15 (Flatten)         (None, 10368)             0         \n",
      "_________________________________________________________________\n",
      "dense_36 (Dense)             (None, 256)               2654464   \n",
      "_________________________________________________________________\n",
      "batch_normalization_46 (Batc (None, 256)               1024      \n",
      "_________________________________________________________________\n",
      "dropout_62 (Dropout)         (None, 256)               0         \n",
      "_________________________________________________________________\n",
      "dense_37 (Dense)             (None, 10)                2570      \n",
      "=================================================================\n",
      "Total params: 2,760,746\n",
      "Trainable params: 2,759,850\n",
      "Non-trainable params: 896\n",
      "_________________________________________________________________\n"
     ]
    }
   ],
   "source": [
    "mods['mnist_f'].summary()"
   ]
  },
  {
   "cell_type": "markdown",
   "metadata": {},
   "source": [
    "conv_1_num_filters: 32  \n",
    "conv_2_num_filters: 32   \n",
    "conv_3_num_filters: 64     \n",
    "conv_4_num_filters: 128     \n",
    "dropout: 0.2  \n",
    "num_hidden_layers = 1  \n",
    "neurons_per_hidden_layer = 256  \n",
    "pool_size = 2x2"
   ]
  },
  {
   "cell_type": "markdown",
   "metadata": {},
   "source": [
    "**CIFAR-10**"
   ]
  },
  {
   "cell_type": "code",
   "execution_count": 5,
   "metadata": {},
   "outputs": [
    {
     "name": "stdout",
     "output_type": "stream",
     "text": [
      "Model: \"sequential_18\"\n",
      "_________________________________________________________________\n",
      "Layer (type)                 Output Shape              Param #   \n",
      "=================================================================\n",
      "conv2d_61 (Conv2D)           (None, 30, 30, 32)        896       \n",
      "_________________________________________________________________\n",
      "batch_normalization_47 (Batc (None, 30, 30, 32)        128       \n",
      "_________________________________________________________________\n",
      "conv2d_62 (Conv2D)           (None, 28, 28, 32)        9248      \n",
      "_________________________________________________________________\n",
      "batch_normalization_48 (Batc (None, 28, 28, 32)        128       \n",
      "_________________________________________________________________\n",
      "dropout_63 (Dropout)         (None, 28, 28, 32)        0         \n",
      "_________________________________________________________________\n",
      "conv2d_63 (Conv2D)           (None, 26, 26, 64)        18496     \n",
      "_________________________________________________________________\n",
      "max_pooling2d_24 (MaxPooling (None, 13, 13, 64)        0         \n",
      "_________________________________________________________________\n",
      "dropout_64 (Dropout)         (None, 13, 13, 64)        0         \n",
      "_________________________________________________________________\n",
      "conv2d_64 (Conv2D)           (None, 11, 11, 128)       73856     \n",
      "_________________________________________________________________\n",
      "batch_normalization_49 (Batc (None, 11, 11, 128)       512       \n",
      "_________________________________________________________________\n",
      "dropout_65 (Dropout)         (None, 11, 11, 128)       0         \n",
      "_________________________________________________________________\n",
      "flatten_16 (Flatten)         (None, 15488)             0         \n",
      "_________________________________________________________________\n",
      "dense_38 (Dense)             (None, 256)               3965184   \n",
      "_________________________________________________________________\n",
      "batch_normalization_50 (Batc (None, 256)               1024      \n",
      "_________________________________________________________________\n",
      "dropout_66 (Dropout)         (None, 256)               0         \n",
      "_________________________________________________________________\n",
      "dense_39 (Dense)             (None, 10)                2570      \n",
      "=================================================================\n",
      "Total params: 4,072,042\n",
      "Trainable params: 4,071,146\n",
      "Non-trainable params: 896\n",
      "_________________________________________________________________\n"
     ]
    }
   ],
   "source": [
    "mods['cifar_10'].summary()"
   ]
  },
  {
   "cell_type": "markdown",
   "metadata": {},
   "source": [
    "conv_1_num_filters: 32  \n",
    "conv_2_num_filters: 32   \n",
    "conv_3_num_filters: 64     \n",
    "conv_4_num_filters: 128     \n",
    "dropout: 0.2  \n",
    "num_hidden_layers = 1  \n",
    "neurons_per_hidden_layer = 256  \n",
    "pool_size = 2x2"
   ]
  },
  {
   "cell_type": "markdown",
   "metadata": {},
   "source": [
    "**CIFAR-100 (Coarse Labels)**"
   ]
  },
  {
   "cell_type": "code",
   "execution_count": 6,
   "metadata": {},
   "outputs": [
    {
     "name": "stdout",
     "output_type": "stream",
     "text": [
      "Model: \"sequential_20\"\n",
      "_________________________________________________________________\n",
      "Layer (type)                 Output Shape              Param #   \n",
      "=================================================================\n",
      "conv2d_69 (Conv2D)           (None, 30, 30, 32)        896       \n",
      "_________________________________________________________________\n",
      "batch_normalization_55 (Batc (None, 30, 30, 32)        128       \n",
      "_________________________________________________________________\n",
      "conv2d_70 (Conv2D)           (None, 28, 28, 32)        9248      \n",
      "_________________________________________________________________\n",
      "batch_normalization_56 (Batc (None, 28, 28, 32)        128       \n",
      "_________________________________________________________________\n",
      "dropout_71 (Dropout)         (None, 28, 28, 32)        0         \n",
      "_________________________________________________________________\n",
      "conv2d_71 (Conv2D)           (None, 26, 26, 64)        18496     \n",
      "_________________________________________________________________\n",
      "max_pooling2d_26 (MaxPooling (None, 13, 13, 64)        0         \n",
      "_________________________________________________________________\n",
      "dropout_72 (Dropout)         (None, 13, 13, 64)        0         \n",
      "_________________________________________________________________\n",
      "conv2d_72 (Conv2D)           (None, 11, 11, 128)       73856     \n",
      "_________________________________________________________________\n",
      "batch_normalization_57 (Batc (None, 11, 11, 128)       512       \n",
      "_________________________________________________________________\n",
      "dropout_73 (Dropout)         (None, 11, 11, 128)       0         \n",
      "_________________________________________________________________\n",
      "flatten_18 (Flatten)         (None, 15488)             0         \n",
      "_________________________________________________________________\n",
      "dense_42 (Dense)             (None, 256)               3965184   \n",
      "_________________________________________________________________\n",
      "batch_normalization_58 (Batc (None, 256)               1024      \n",
      "_________________________________________________________________\n",
      "dropout_74 (Dropout)         (None, 256)               0         \n",
      "_________________________________________________________________\n",
      "dense_43 (Dense)             (None, 20)                5140      \n",
      "=================================================================\n",
      "Total params: 4,074,612\n",
      "Trainable params: 4,073,716\n",
      "Non-trainable params: 896\n",
      "_________________________________________________________________\n"
     ]
    }
   ],
   "source": [
    "mods['cifar_100_c'].summary()"
   ]
  },
  {
   "cell_type": "markdown",
   "metadata": {},
   "source": [
    "conv_1_num_filters: 32  \n",
    "conv_2_num_filters: 32   \n",
    "conv_3_num_filters: 64     \n",
    "conv_4_num_filters: 128     \n",
    "dropout: 0.2  \n",
    "num_hidden_layers = 1  \n",
    "neurons_per_hidden_layer = 256  \n",
    "pool_size = 2x2"
   ]
  },
  {
   "cell_type": "markdown",
   "metadata": {},
   "source": [
    "**CIFAR-100 (Fine Labels)**"
   ]
  },
  {
   "cell_type": "markdown",
   "metadata": {},
   "source": [
    "For the CIFAR-100 dataset with fine labels, I used KerasTuner to optimize hyperparameters by building several models. The process is highlighted below."
   ]
  },
  {
   "cell_type": "markdown",
   "metadata": {},
   "source": [
    "```python\n",
    "# note that data refers to the cifar_100_f dataset\n",
    "def buildTuneModel(hp):\n",
    "    mod = tf.keras.models.Sequential()\n",
    "    mod.add(tf.keras.layers.Conv2D(filters=hp.Int('input_num_filters', min_value=32, max_value=256, step=32),       kernel_size=(3, 3), activation=\"relu\", input_shape=data[0][0][0].shape))\n",
    "    mod.add(tf.keras.layers.BatchNormalization())\n",
    "    tf.keras.layers.Dropout(hp.Float('input_dropout',min_value=0.0,max_value=0.5,default=0.25,step=0.05))\n",
    "    for i in range(hp.Int('num_conv_layers', 1, 5)):\n",
    "        mod.add(tf.keras.layers.Conv2D(filters=hp.Int('conv_{i}_num_filters', min_value=32, max_value=256, step=32), kernel_size=(3, 3), activation=\"relu\"))\n",
    "        mod.add(tf.keras.layers.BatchNormalization())\n",
    "        mod.add(tf.keras.layers.Dropout(hp.Float('conv_{i}_dropout',min_value=0.0,max_value=0.5,default=0.25,step=0.05)))\n",
    "    mod.add(tf.keras.layers.Flatten())\n",
    "    for i in range(hp.Int('num_hid_layers', 1, 5)):\n",
    "        mod.add(tf.keras.layers.Dense(hp.Int('hid_{i}_num_neurons', min_value=32, max_value=256, step=32), activation=\"relu\"))\n",
    "        mod.add(tf.keras.layers.BatchNormalization())\n",
    "        mod.add(tf.keras.layers.Dropout(hp.Float('hid_{i}_dropout',min_value=0.0,max_value=0.5,default=0.25,step=0.05)))\n",
    "    mod.add(tf.keras.layers.Dense(data[0][1].shape[1], activation=tf.nn.softmax))\n",
    "    mod.compile(optimizer='adam', loss='categorical_crossentropy', metrics=['accuracy'])\n",
    "    return mod\n",
    "```"
   ]
  },
  {
   "cell_type": "markdown",
   "metadata": {},
   "source": [
    "```python\n",
    "from kerastuner.tuners import RandomSearch\n",
    "from kerastuner.engine.hyperparameters import HyperParameters\n",
    "import pickle\n",
    "```"
   ]
  },
  {
   "cell_type": "markdown",
   "metadata": {},
   "source": [
    "```python\n",
    "tuner = RandomSearch(buildTuneModel, objective='val_accuracy', max_trials=20, executions_per_trial=2)\n",
    "tuner.search_space_summary()\n",
    "tuner.search(x=data[0][0], y=data[0][1], epochs=3, validation_data=data[1])\n",
    "with open(f\"tuner.pkl\", \"wb\") as f:\n",
    "    pickle.dump(tuner, f)\n",
    "```"
   ]
  },
  {
   "cell_type": "markdown",
   "metadata": {},
   "source": [
    "Now, let's load the tuner and identify the optimal hyperparameters."
   ]
  },
  {
   "cell_type": "code",
   "execution_count": 9,
   "metadata": {},
   "outputs": [],
   "source": [
    "import pickle\n",
    "import tensorflow as tf\n",
    "\n",
    "with open(f'tuner.pkl', 'rb') as f:\n",
    "    tuner = pickle.load(f)\n",
    "    \n",
    "bestMod = tuner.get_best_models()[0]\n",
    "bestHps = tuner.get_best_hyperparameters()[0]"
   ]
  },
  {
   "cell_type": "code",
   "execution_count": 10,
   "metadata": {},
   "outputs": [
    {
     "name": "stdout",
     "output_type": "stream",
     "text": [
      "Model: \"sequential\"\n",
      "_________________________________________________________________\n",
      "Layer (type)                 Output Shape              Param #   \n",
      "=================================================================\n",
      "conv2d (Conv2D)              (None, 30, 30, 192)       5376      \n",
      "_________________________________________________________________\n",
      "batch_normalization (BatchNo (None, 30, 30, 192)       768       \n",
      "_________________________________________________________________\n",
      "conv2d_1 (Conv2D)            (None, 28, 28, 96)        165984    \n",
      "_________________________________________________________________\n",
      "batch_normalization_1 (Batch (None, 28, 28, 96)        384       \n",
      "_________________________________________________________________\n",
      "dropout_1 (Dropout)          (None, 28, 28, 96)        0         \n",
      "_________________________________________________________________\n",
      "conv2d_2 (Conv2D)            (None, 26, 26, 96)        83040     \n",
      "_________________________________________________________________\n",
      "batch_normalization_2 (Batch (None, 26, 26, 96)        384       \n",
      "_________________________________________________________________\n",
      "dropout_2 (Dropout)          (None, 26, 26, 96)        0         \n",
      "_________________________________________________________________\n",
      "flatten (Flatten)            (None, 64896)             0         \n",
      "_________________________________________________________________\n",
      "dense (Dense)                (None, 160)               10383520  \n",
      "_________________________________________________________________\n",
      "batch_normalization_3 (Batch (None, 160)               640       \n",
      "_________________________________________________________________\n",
      "dropout_3 (Dropout)          (None, 160)               0         \n",
      "_________________________________________________________________\n",
      "dense_1 (Dense)              (None, 160)               25760     \n",
      "_________________________________________________________________\n",
      "batch_normalization_4 (Batch (None, 160)               640       \n",
      "_________________________________________________________________\n",
      "dropout_4 (Dropout)          (None, 160)               0         \n",
      "_________________________________________________________________\n",
      "dense_2 (Dense)              (None, 100)               16100     \n",
      "=================================================================\n",
      "Total params: 10,682,596\n",
      "Trainable params: 10,681,188\n",
      "Non-trainable params: 1,408\n",
      "_________________________________________________________________\n"
     ]
    }
   ],
   "source": [
    "bestMod.summary()"
   ]
  },
  {
   "cell_type": "code",
   "execution_count": 11,
   "metadata": {},
   "outputs": [
    {
     "name": "stdout",
     "output_type": "stream",
     "text": [
      "input_num_filters: 192\n",
      "input_dropout: 0.2\n",
      "num_conv_layers: 2\n",
      "conv_{i}_num_filters: 96\n",
      "conv_{i}_dropout: 0.2\n",
      "num_hid_layers: 2\n",
      "hid_{i}_num_neurons: 160\n",
      "hid_{i}_dropout: 0.05\n"
     ]
    }
   ],
   "source": [
    "for hp in bestHps._hps.keys():\n",
    "    print('{}: {}'.format(hp, bestHps.get(hp)))"
   ]
  },
  {
   "cell_type": "markdown",
   "metadata": {},
   "source": [
    "## Visualizations"
   ]
  },
  {
   "cell_type": "code",
   "execution_count": 12,
   "metadata": {},
   "outputs": [],
   "source": [
    "import matplotlib.pyplot as plt\n",
    "import seaborn as sns"
   ]
  },
  {
   "cell_type": "code",
   "execution_count": 14,
   "metadata": {},
   "outputs": [
    {
     "name": "stdout",
     "output_type": "stream",
     "text": [
      "Dataset: mnist_d\n",
      "Shape of xTrain dataset: (60000, 28, 28).\n",
      "Shape of yTrain dataset: (60000,).\n",
      "Shape of xTest dataset: (10000, 28, 28).\n",
      "Shape of yTest dataset: (10000,).\n",
      "New shape of xTrain dataset: (60000, 784).\n",
      "New shape of xTest dataset: (10000, 784).\n",
      "New shape of yTrain dataset: (60000, 10).\n",
      "New shape of yTest dataset: (10000, 10).\n",
      "Building and training TF_NN.\n",
      "Testing TF_NN.\n",
      "Classifier algorithm: tf_net\n",
      "Classifier accuracy: 98.020000%\n",
      "\n",
      "Dataset: mnist_f\n",
      "Shape of xTrain dataset: (60000, 28, 28).\n",
      "Shape of yTrain dataset: (60000,).\n",
      "Shape of xTest dataset: (10000, 28, 28).\n",
      "Shape of yTest dataset: (10000,).\n",
      "New shape of xTrain dataset: (60000, 784).\n",
      "New shape of xTest dataset: (10000, 784).\n",
      "New shape of yTrain dataset: (60000, 10).\n",
      "New shape of yTest dataset: (10000, 10).\n",
      "Building and training TF_NN.\n",
      "Testing TF_NN.\n",
      "Classifier algorithm: tf_net\n",
      "Classifier accuracy: 88.910000%\n",
      "\n",
      "Dataset: cifar_10\n",
      "Shape of xTrain dataset: (50000, 32, 32, 3).\n",
      "Shape of yTrain dataset: (50000, 1).\n",
      "Shape of xTest dataset: (10000, 32, 32, 3).\n",
      "Shape of yTest dataset: (10000, 1).\n",
      "New shape of xTrain dataset: (50000, 3072).\n",
      "New shape of xTest dataset: (10000, 3072).\n",
      "New shape of yTrain dataset: (50000, 10).\n",
      "New shape of yTest dataset: (10000, 10).\n",
      "Building and training TF_NN.\n",
      "Testing TF_NN.\n",
      "Classifier algorithm: tf_net\n",
      "Classifier accuracy: 47.130000%\n",
      "\n",
      "Dataset: cifar_100_c\n",
      "Shape of xTrain dataset: (50000, 32, 32, 3).\n",
      "Shape of yTrain dataset: (50000, 1).\n",
      "Shape of xTest dataset: (10000, 32, 32, 3).\n",
      "Shape of yTest dataset: (10000, 1).\n",
      "New shape of xTrain dataset: (50000, 3072).\n",
      "New shape of xTest dataset: (10000, 3072).\n",
      "New shape of yTrain dataset: (50000, 20).\n",
      "New shape of yTest dataset: (10000, 20).\n",
      "Building and training TF_NN.\n",
      "Testing TF_NN.\n",
      "Classifier algorithm: tf_net\n",
      "Classifier accuracy: 28.710000%\n",
      "\n",
      "Dataset: cifar_100_f\n",
      "Shape of xTrain dataset: (50000, 32, 32, 3).\n",
      "Shape of yTrain dataset: (50000, 1).\n",
      "Shape of xTest dataset: (10000, 32, 32, 3).\n",
      "Shape of yTest dataset: (10000, 1).\n",
      "New shape of xTrain dataset: (50000, 3072).\n",
      "New shape of xTest dataset: (10000, 3072).\n",
      "New shape of yTrain dataset: (50000, 100).\n",
      "New shape of yTest dataset: (10000, 100).\n",
      "Building and training TF_NN.\n",
      "Testing TF_NN.\n",
      "Classifier algorithm: tf_net\n",
      "Classifier accuracy: 13.520000%\n",
      "\n"
     ]
    }
   ],
   "source": [
    "ann_acc = {'mnist_d':None, 'mnist_f':None, 'cifar_10':None, 'cifar_100_c':None, 'cifar_100_f':None}\n",
    "for dataset in ann_acc:\n",
    "    raw = getRawData(dataset)\n",
    "    data = preprocessData(raw, dataset, 'tf_net')\n",
    "    model = trainModel(data[0], 'tf_net', dataset, load=True)\n",
    "    preds = runModel(data[1], model, ALGORITHM='tf_net')\n",
    "    ann_acc[dataset] = evalResults(data[1], preds, ALGORITHM='tf_net')"
   ]
  },
  {
   "cell_type": "code",
   "execution_count": 15,
   "metadata": {},
   "outputs": [
    {
     "data": {
      "image/png": "[encoded data removed]",
      "text/plain": [
       "<Figure size 432x288 with 1 Axes>"
      ]
     },
     "metadata": {
      "needs_background": "light"
     },
     "output_type": "display_data"
    }
   ],
   "source": [
    "fig, ax = plt.subplots()\n",
    "sns.barplot(x=list(ann_acc.keys()), y=[acc*100 for acc in ann_acc.values()])\n",
    "plt.xlabel('Dataset')\n",
    "plt.ylabel('Accuracy (%)')\n",
    "plt.title('ANN Accuracy')\n",
    "fig.savefig('ANN_Accuracy_Plot.pdf')"
   ]
  },
  {
   "cell_type": "code",
   "execution_count": 16,
   "metadata": {},
   "outputs": [
    {
     "data": {
      "image/png": "[encoded data removed]",
      "text/plain": [
       "<Figure size 432x288 with 1 Axes>"
      ]
     },
     "metadata": {
      "needs_background": "light"
     },
     "output_type": "display_data"
    }
   ],
   "source": [
    "fig, ax = plt.subplots()\n",
    "sns.barplot(x=list(acc.keys()), y=[acc*100 for acc in acc.values()])\n",
    "plt.xlabel('Dataset')\n",
    "plt.ylabel('Accuracy (%)')\n",
    "plt.title('CNN Accuracy')\n",
    "fig.savefig('CNN_Accuracy_Plot.pdf')"
   ]
  }
 ],
 "metadata": {
  "kernelspec": {
   "display_name": "Python 3",
   "language": "python",
   "name": "python3"
  },
  "language_info": {
   "codemirror_mode": {
    "name": "ipython",
    "version": 3
   },
   "file_extension": ".py",
   "mimetype": "text/x-python",
   "name": "python",
   "nbconvert_exporter": "python",
   "pygments_lexer": "ipython3",
   "version": "3.8.3"
  }
 },
 "nbformat": 4,
 "nbformat_minor": 4
}
